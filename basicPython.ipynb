{
 "cells": [
  {
   "cell_type": "markdown",
   "metadata": {},
   "source": [
    "v1 = \"Rishov\"\n",
    "v2 = \"William\"\n",
    "\n",
    "print(v1 + \" thinks \" + v2 + \" is cool!\" )"
   ]
  },
  {
   "cell_type": "markdown",
   "metadata": {},
   "source": [
    "In this notebook, we will go over Python basics: \n",
    "    \n",
    "- Variables\n",
    "- Data Types\n",
    "- Control Flow\n",
    "- Loops \n",
    "- Functions \n",
    "\n"
   ]
  },
  {
   "cell_type": "markdown",
   "metadata": {},
   "source": [
    "$$\\int_{a}^{b} x^2 dx = \\frac{x^3}{3}_{a}^{b} = \\frac{b^3}{3} - \\frac{a^3}{3} $$"
   ]
  },
  {
   "cell_type": "markdown",
   "metadata": {},
   "source": [
    "Variables in Python don't need their type specified, but we can specify them"
   ]
  },
  {
   "cell_type": "code",
   "execution_count": 9,
   "metadata": {
    "scrolled": false
   },
   "outputs": [
    {
     "name": "stdout",
     "output_type": "stream",
     "text": [
      "5\n"
     ]
    }
   ],
   "source": [
    "v3 = 5\n",
    "v3: int = 5\n",
    "print (v3)"
   ]
  },
  {
   "cell_type": "markdown",
   "metadata": {},
   "source": [
    "We can have floats, integers, boolean values, strings, and other primitive types in Python. \n",
    "For this notebook, we'll just care about the ones listed"
   ]
  },
  {
   "cell_type": "code",
   "execution_count": 8,
   "metadata": {},
   "outputs": [],
   "source": [
    "float1 = 6.0 \n",
    "in1 = 3\n",
    "bool1 = True \n",
    "bool2 = False \n",
    "str1 = \"Rishov is rocking the notebook\""
   ]
  },
  {
   "cell_type": "markdown",
   "metadata": {},
   "source": [
    "Control Flow in Python: \n",
    "if\n",
    "elif\n",
    "else"
   ]
  },
  {
   "cell_type": "code",
   "execution_count": 10,
   "metadata": {},
   "outputs": [
    {
     "name": "stdout",
     "output_type": "stream",
     "text": [
      "Did something right\n"
     ]
    }
   ],
   "source": [
    "# Below, a is an example of a list in Python. Compared to other languages, a list is the equivalent of an\n",
    "# array\n",
    "a = [1,2,3,4,5]\n",
    "\n",
    "if a[1] == True: \n",
    "    print(\"Second is the best\")\n",
    "elif a[3] == 4: \n",
    "    print(\"Did something right\")\n",
    "else: \n",
    "    print(\"Testing out the else clause\")"
   ]
  },
  {
   "cell_type": "markdown",
   "metadata": {},
   "source": [
    "Python supports while and for loops. "
   ]
  },
  {
   "cell_type": "code",
   "execution_count": 12,
   "metadata": {},
   "outputs": [
    {
     "name": "stdout",
     "output_type": "stream",
     "text": [
      "The count is: 0\n",
      "The count is: 1\n",
      "The count is: 2\n",
      "The count is: 3\n",
      "The count is: 4\n",
      "The count is: 5\n",
      "The count is: 6\n",
      "The count is: 7\n",
      "The count is: 8\n",
      "Good bye!\n"
     ]
    }
   ],
   "source": [
    "#while loop example\n",
    "\n",
    "count = 0\n",
    "while (count < 9):\n",
    "    print('The count is:', count)\n",
    "    count = count + 1\n",
    "    \n",
    "print (\"Good bye!\")"
   ]
  },
  {
   "cell_type": "code",
   "execution_count": 13,
   "metadata": {},
   "outputs": [
    {
     "name": "stdout",
     "output_type": "stream",
     "text": [
      "1\n",
      "4\n",
      "9\n",
      "16\n",
      "25\n"
     ]
    }
   ],
   "source": [
    "#for loop example\n",
    "\n",
    "for i in a: \n",
    "    print (i**2)"
   ]
  },
  {
   "cell_type": "markdown",
   "metadata": {},
   "source": [
    "Functions in Python are super interesting. Let's write two example functions."
   ]
  },
  {
   "cell_type": "code",
   "execution_count": 16,
   "metadata": {},
   "outputs": [
    {
     "name": "stdout",
     "output_type": "stream",
     "text": [
      "8\n",
      "34\n",
      "200.0002058\n",
      "3.0\n"
     ]
    }
   ],
   "source": [
    "# doubling any input\n",
    "\n",
    "def twice(x): \n",
    "    return 2*x\n",
    "print(twice(4))\n",
    "print(twice(17))\n",
    "print(twice(100.0001029))\n",
    "#taking the average of a list of numbers \n",
    "\n",
    "def mean(x: list): \n",
    "    return sum(x) / len(x)\n",
    "print(mean(a))"
   ]
  }
 ],
 "metadata": {
  "kernelspec": {
   "display_name": "Python 3",
   "language": "python",
   "name": "python3"
  },
  "language_info": {
   "codemirror_mode": {
    "name": "ipython",
    "version": 3
   },
   "file_extension": ".py",
   "mimetype": "text/x-python",
   "name": "python",
   "nbconvert_exporter": "python",
   "pygments_lexer": "ipython3",
   "version": "3.6.5"
  }
 },
 "nbformat": 4,
 "nbformat_minor": 2
}
